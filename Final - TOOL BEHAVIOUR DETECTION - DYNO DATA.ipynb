{
 "cells": [
  {
   "cell_type": "code",
   "execution_count": 13,
   "id": "b569cd5d",
   "metadata": {},
   "outputs": [],
   "source": [
    "File = r\"C:\\Users\\PRANAV REDDY\\Desktop\\MechLabProject\\DynoData.csv\"\n",
    "import numpy as np\n",
    "import pandas as pd\n",
    "import matplotlib.pyplot as plt"
   ]
  },
  {
   "cell_type": "code",
   "execution_count": 14,
   "id": "1e9751a4",
   "metadata": {},
   "outputs": [
    {
     "data": {
      "text/html": [
       "<div>\n",
       "<style scoped>\n",
       "    .dataframe tbody tr th:only-of-type {\n",
       "        vertical-align: middle;\n",
       "    }\n",
       "\n",
       "    .dataframe tbody tr th {\n",
       "        vertical-align: top;\n",
       "    }\n",
       "\n",
       "    .dataframe thead th {\n",
       "        text-align: right;\n",
       "    }\n",
       "</style>\n",
       "<table border=\"1\" class=\"dataframe\">\n",
       "  <thead>\n",
       "    <tr style=\"text-align: right;\">\n",
       "      <th></th>\n",
       "      <th>Time</th>\n",
       "      <th>Ch1</th>\n",
       "      <th>Ch2</th>\n",
       "      <th>Ch3</th>\n",
       "      <th>Ch4</th>\n",
       "      <th>Ch5</th>\n",
       "      <th>Ch6</th>\n",
       "      <th>Ch7</th>\n",
       "      <th>Ch8</th>\n",
       "      <th>Fx</th>\n",
       "      <th>Fy</th>\n",
       "      <th>Fz</th>\n",
       "      <th>Mx</th>\n",
       "      <th>My</th>\n",
       "      <th>Mz</th>\n",
       "      <th>Extra 1</th>\n",
       "      <th>Extra 2</th>\n",
       "    </tr>\n",
       "  </thead>\n",
       "  <tbody>\n",
       "    <tr>\n",
       "      <th>0</th>\n",
       "      <td>s</td>\n",
       "      <td>N</td>\n",
       "      <td>N</td>\n",
       "      <td>N</td>\n",
       "      <td>N</td>\n",
       "      <td>N</td>\n",
       "      <td>N</td>\n",
       "      <td>N</td>\n",
       "      <td>N</td>\n",
       "      <td>N</td>\n",
       "      <td>N</td>\n",
       "      <td>N</td>\n",
       "      <td>Nm</td>\n",
       "      <td>Nm</td>\n",
       "      <td>Nm</td>\n",
       "      <td>N</td>\n",
       "      <td>N</td>\n",
       "    </tr>\n",
       "    <tr>\n",
       "      <th>1</th>\n",
       "      <td>0</td>\n",
       "      <td>0.328064</td>\n",
       "      <td>-1.16828</td>\n",
       "      <td>-0.326647</td>\n",
       "      <td>-1.42212</td>\n",
       "      <td>-0.0662667</td>\n",
       "      <td>-0.579725</td>\n",
       "      <td>1.05046</td>\n",
       "      <td>-0.181362</td>\n",
       "      <td>-0.840214</td>\n",
       "      <td>-1.74877</td>\n",
       "      <td>0.223105</td>\n",
       "      <td>-0.0871176</td>\n",
       "      <td>0.0215509</td>\n",
       "      <td>-0.0531755</td>\n",
       "      <td>0</td>\n",
       "      <td>0</td>\n",
       "    </tr>\n",
       "    <tr>\n",
       "      <th>2</th>\n",
       "      <td>0.1</td>\n",
       "      <td>0.503322</td>\n",
       "      <td>-0.519344</td>\n",
       "      <td>-0.0858852</td>\n",
       "      <td>-0.317819</td>\n",
       "      <td>0.132316</td>\n",
       "      <td>-0.300162</td>\n",
       "      <td>0.241743</td>\n",
       "      <td>-0.218092</td>\n",
       "      <td>-0.0160217</td>\n",
       "      <td>-0.403704</td>\n",
       "      <td>-0.144196</td>\n",
       "      <td>-0.0110111</td>\n",
       "      <td>0.000820706</td>\n",
       "      <td>-0.0518453</td>\n",
       "      <td>0</td>\n",
       "      <td>0</td>\n",
       "    </tr>\n",
       "    <tr>\n",
       "      <th>3</th>\n",
       "      <td>0.2</td>\n",
       "      <td>0.855691</td>\n",
       "      <td>0.139182</td>\n",
       "      <td>1.49264</td>\n",
       "      <td>1.50572</td>\n",
       "      <td>0.3879</td>\n",
       "      <td>-0.242615</td>\n",
       "      <td>-0.133187</td>\n",
       "      <td>-0.025286</td>\n",
       "      <td>0.994873</td>\n",
       "      <td>2.99835</td>\n",
       "      <td>-0.013188</td>\n",
       "      <td>0.0174661</td>\n",
       "      <td>-0.0221525</td>\n",
       "      <td>-0.0415916</td>\n",
       "      <td>0</td>\n",
       "      <td>0</td>\n",
       "    </tr>\n",
       "    <tr>\n",
       "      <th>4</th>\n",
       "      <td>0.3</td>\n",
       "      <td>0.189536</td>\n",
       "      <td>-0.529371</td>\n",
       "      <td>0.293405</td>\n",
       "      <td>-0.420816</td>\n",
       "      <td>0.28098</td>\n",
       "      <td>-0.170571</td>\n",
       "      <td>0.844901</td>\n",
       "      <td>0.295258</td>\n",
       "      <td>-0.339835</td>\n",
       "      <td>-0.127411</td>\n",
       "      <td>1.25057</td>\n",
       "      <td>-0.0592106</td>\n",
       "      <td>0.00294277</td>\n",
       "      <td>-0.0199105</td>\n",
       "      <td>0</td>\n",
       "      <td>0</td>\n",
       "    </tr>\n",
       "  </tbody>\n",
       "</table>\n",
       "</div>"
      ],
      "text/plain": [
       "  Time       Ch1        Ch2         Ch3        Ch4         Ch5        Ch6  \\\n",
       "0    s         N          N           N          N           N          N   \n",
       "1    0  0.328064   -1.16828   -0.326647   -1.42212  -0.0662667  -0.579725   \n",
       "2  0.1  0.503322  -0.519344  -0.0858852  -0.317819    0.132316  -0.300162   \n",
       "3  0.2  0.855691   0.139182     1.49264    1.50572      0.3879  -0.242615   \n",
       "4  0.3  0.189536  -0.529371    0.293405  -0.420816     0.28098  -0.170571   \n",
       "\n",
       "         Ch7        Ch8          Fx         Fy         Fz          Mx  \\\n",
       "0          N          N           N          N          N          Nm   \n",
       "1    1.05046  -0.181362   -0.840214   -1.74877   0.223105  -0.0871176   \n",
       "2   0.241743  -0.218092  -0.0160217  -0.403704  -0.144196  -0.0110111   \n",
       "3  -0.133187  -0.025286    0.994873    2.99835  -0.013188   0.0174661   \n",
       "4   0.844901   0.295258   -0.339835  -0.127411    1.25057  -0.0592106   \n",
       "\n",
       "            My          Mz Extra 1 Extra 2  \n",
       "0           Nm          Nm       N       N  \n",
       "1    0.0215509  -0.0531755       0       0  \n",
       "2  0.000820706  -0.0518453       0       0  \n",
       "3   -0.0221525  -0.0415916       0       0  \n",
       "4   0.00294277  -0.0199105       0       0  "
      ]
     },
     "execution_count": 14,
     "metadata": {},
     "output_type": "execute_result"
    }
   ],
   "source": [
    "Mat = pd.read_csv(File)\n",
    "Mat.head()"
   ]
  },
  {
   "cell_type": "code",
   "execution_count": 16,
   "id": "18646c5d",
   "metadata": {},
   "outputs": [],
   "source": [
    "Fx = Mat['Fx']\n",
    "Fy = Mat['Fy']\n",
    "Fz = Mat['Fz']\n",
    "Mx = Mat['Mx']\n",
    "My = Mat['My']\n",
    "Mz = Mat['Mz']"
   ]
  },
  {
   "cell_type": "code",
   "execution_count": 25,
   "id": "e2c28af6",
   "metadata": {},
   "outputs": [
    {
     "data": {
      "text/plain": [
       "-0.840214"
      ]
     },
     "execution_count": 25,
     "metadata": {},
     "output_type": "execute_result"
    }
   ],
   "source": [
    "float(Fx[1])"
   ]
  },
  {
   "cell_type": "code",
   "execution_count": 52,
   "id": "a4d09e89",
   "metadata": {},
   "outputs": [],
   "source": [
    "FRes = np.zeros([np.size(Fx)])\n",
    "MRes = np.zeros([np.size(Fx)])\n",
    "XDat = []\n",
    "XDat_6=[]\n",
    "for ii in range(1,np.size(Fx)):\n",
    "    FRes[ii] = np.sqrt(float(Fx[ii])**2 + float(Fy[ii])**2 + float(Fz[ii])**2)\n",
    "    MRes[ii] = np.sqrt(float(Mx[ii])**2 + float(My[ii])**2 + float(Mz[ii])**2)\n",
    "    XDat.append([FRes[ii], MRes[ii]])\n",
    "    XDat_6.append([Fx[ii], Fy[ii], Fz[ii], Mx[ii], My[ii], Mz[ii]])\n",
    "    \n",
    "XDat = np.array(XDat)\n",
    "XDat_6 = np.array(XDat_6)"
   ]
  },
  {
   "cell_type": "code",
   "execution_count": 58,
   "id": "d1378c29",
   "metadata": {},
   "outputs": [
    {
     "data": {
      "text/plain": [
       "array([1, 1, 1, 1, 1, 1, 1, 0, 0, 0, 0, 0, 0, 0, 0, 0, 0, 0, 0, 0, 0, 0,\n",
       "       0, 0, 0, 0, 0, 0, 0, 0, 0, 0, 0, 0, 0, 0, 0, 0, 0, 0, 0, 0, 0, 0,\n",
       "       0, 0, 0, 0, 0, 0, 0, 0, 0, 0, 0, 0, 0, 0, 0, 0, 0, 0, 0, 0, 0, 0,\n",
       "       0, 0, 0, 0, 0, 0, 0, 0, 0, 0, 0, 0, 0, 0, 0, 0, 0, 0, 0, 0, 0, 0,\n",
       "       0, 0, 0, 0, 0, 0, 0, 0, 0, 0, 0, 0, 0, 0, 0, 0, 0, 0, 0, 0, 0, 0,\n",
       "       0, 0, 0, 0, 0, 0, 0, 0, 0, 0, 0, 0, 0, 0, 0, 0, 0, 0, 0, 0, 0, 0,\n",
       "       0, 0, 0, 0, 0, 0, 0, 0, 0, 0, 0, 0, 0, 0, 0, 0, 0, 0, 0, 0, 0, 0,\n",
       "       0, 0, 0, 0, 0, 0, 0, 0, 0, 0, 0, 0, 0, 0, 0, 0, 0, 0, 0, 0, 0, 0,\n",
       "       0, 0, 0, 0, 0, 0, 0, 0, 0, 0, 0, 0, 0, 0, 0, 0, 0, 0, 0, 0, 0, 0,\n",
       "       0, 0, 0, 0, 0, 0, 0, 0, 0, 0, 0, 0, 0, 0, 0, 0, 0, 0, 0, 0, 0, 0,\n",
       "       0, 0, 0, 0, 0, 0, 0, 0, 0, 0, 0, 0, 0, 0, 0, 0, 0, 0, 0, 0, 0, 0,\n",
       "       0, 0, 0, 0, 0, 0, 0, 0, 0, 0, 0, 0, 0, 0, 0, 0, 0, 0, 0, 0, 0, 0,\n",
       "       0, 0, 0, 0, 0, 0, 0, 0, 0, 0, 0, 0, 0, 0, 0, 0, 0, 0, 0, 0, 0, 0,\n",
       "       0, 0, 0, 0, 0, 0, 0, 0, 0, 0, 0, 0, 0, 0, 0, 0, 0, 0, 0, 0, 0, 0,\n",
       "       0, 0, 0, 0, 0, 0, 0, 0, 0, 0, 0, 0, 0, 0, 0, 0, 0, 0, 0, 0, 0, 0,\n",
       "       0, 0, 0, 0, 0, 0, 0, 0, 0, 0, 0, 0, 0, 0, 0, 0, 0, 0, 0, 0, 0, 0,\n",
       "       0, 0, 0, 0, 0, 0, 0, 0, 0, 0, 0, 0, 0, 0, 0, 0, 0, 0, 0, 0, 0, 0,\n",
       "       0, 0, 0, 0, 0, 0, 0, 0, 0, 0, 0, 0, 0, 0, 0, 0, 0, 0, 0, 0, 0, 0,\n",
       "       0, 0, 0, 0, 0, 0, 0, 0, 0, 0, 0, 0, 0, 0, 0, 0, 0, 0, 0, 0, 0, 0,\n",
       "       0, 0, 0, 0, 0, 0, 0, 0, 0, 0, 0, 0, 0, 0, 0, 0, 0, 0, 0, 0, 0, 0,\n",
       "       0, 0, 0, 0, 0, 0, 0, 0, 0, 0, 0, 0, 0, 0, 0, 0, 0, 0, 0, 0, 0, 0,\n",
       "       0, 0, 0, 0, 0, 0, 0, 0, 0, 0, 0, 0, 0, 0, 0, 0, 0, 0, 0, 0, 0, 0,\n",
       "       0, 0, 0, 0, 0, 0, 0, 0, 0, 0, 0, 0, 0, 0, 0, 0, 0, 0, 0, 0, 0, 0,\n",
       "       0, 0, 0, 0, 0, 0, 0, 0, 0, 0, 0, 0, 0, 0, 0, 0, 0, 0, 0, 0, 0, 0,\n",
       "       0, 0, 0, 0, 0, 0, 0, 0, 0, 0, 0, 0, 0, 0, 0, 0, 0, 0, 0, 0, 0, 0,\n",
       "       0, 0, 0, 0, 0, 0, 0, 0, 0, 0, 0, 0, 0, 0, 0, 0, 0, 0, 0, 0, 0, 0,\n",
       "       0, 0, 0, 0, 0, 0, 0, 0, 0, 0, 0, 0, 0, 0, 0, 0, 0, 0, 0, 0, 0, 0,\n",
       "       0, 0, 0, 0, 0, 0, 0])"
      ]
     },
     "execution_count": 58,
     "metadata": {},
     "output_type": "execute_result"
    }
   ],
   "source": [
    "from sklearn import cluster, datasets\n",
    "from sklearn.cluster import KMeans\n",
    "k_means = cluster.KMeans(n_clusters=2)\n",
    "k_means.fit(XDat_6)\n",
    "KMeans(n_clusters=2)\n",
    "k_means.fit_predict(XDat_6)"
   ]
  },
  {
   "cell_type": "code",
   "execution_count": 74,
   "id": "e3d11b2b",
   "metadata": {},
   "outputs": [],
   "source": [
    "from sklearn import cluster, datasets\n",
    "from sklearn.cluster import KMeans\n",
    "k_means4 = cluster.KMeans(n_clusters=2)\n",
    "k_means4.fit(XDat)\n",
    "KMeans(n_clusters=2)\n",
    "k_means4.fit_predict(XDat)\n",
    "label4 = k_means4.fit_predict(df)"
   ]
  },
  {
   "cell_type": "code",
   "execution_count": 61,
   "id": "dcefab46",
   "metadata": {},
   "outputs": [],
   "source": [
    "from sklearn.decomposition import PCA\n",
    "pca = PCA(2) \n",
    "\n",
    "df = pca.fit_transform(XDat_6)\n",
    "k_means2 = cluster.KMeans(n_clusters=2)\n",
    "label = k_means2.fit_predict(df)"
   ]
  },
  {
   "cell_type": "code",
   "execution_count": 55,
   "id": "d4ec9311",
   "metadata": {},
   "outputs": [
    {
     "data": {
      "text/plain": [
       "array([1, 1, 1, 1, 1, 1, 1, 0, 0, 0, 0, 0, 0, 0, 0, 0, 0, 0, 0, 0, 0, 0,\n",
       "       0, 0, 0, 0, 0, 0, 0, 0, 0, 0, 0, 0, 0, 0, 0, 0, 0, 0, 0, 0, 0, 0,\n",
       "       0, 0, 0, 0, 0, 0, 0, 0, 0, 0, 0, 0, 0, 0, 0, 0, 0, 0, 0, 0, 0, 0,\n",
       "       0, 0, 0, 0, 0, 0, 0, 0, 0, 0, 0, 0, 0, 0, 0, 0, 0, 0, 0, 0, 0, 0,\n",
       "       0, 0, 0, 0, 0, 0, 0, 0, 0, 0, 0, 0, 0, 0, 0, 0, 0, 0, 0, 0, 0, 0,\n",
       "       0, 0, 0, 0, 0, 0, 0, 0, 0, 0, 0, 0, 0, 0, 0, 0, 0, 0, 0, 0, 0, 0,\n",
       "       0, 0, 0, 0, 0, 0, 0, 0, 0, 0, 0, 0, 0, 0, 0, 0, 0, 0, 0, 0, 0, 0,\n",
       "       0, 0, 0, 0, 0, 0, 0, 0, 0, 0, 0, 0, 0, 0, 0, 0, 0, 0, 0, 0, 0, 0,\n",
       "       0, 0, 0, 0, 0, 0, 0, 0, 0, 0, 0, 0, 0, 0, 0, 0, 0, 0, 0, 0, 0, 0,\n",
       "       0, 0, 0, 0, 0, 0, 0, 0, 0, 0, 0, 0, 0, 0, 0, 0, 0, 0, 0, 0, 0, 0,\n",
       "       0, 0, 0, 0, 0, 0, 0, 0, 0, 0, 0, 0, 0, 0, 0, 0, 0, 0, 0, 0, 0, 0,\n",
       "       0, 0, 0, 0, 0, 0, 0, 0, 0, 0, 0, 0, 0, 0, 0, 0, 0, 0, 0, 0, 0, 0,\n",
       "       0, 0, 0, 0, 0, 0, 0, 0, 0, 0, 0, 0, 0, 0, 0, 0, 0, 0, 0, 0, 0, 0,\n",
       "       0, 0, 0, 0, 0, 0, 0, 0, 0, 0, 0, 0, 0, 0, 0, 0, 0, 0, 0, 0, 0, 0,\n",
       "       0, 0, 0, 0, 0, 0, 0, 0, 0, 0, 0, 0, 0, 0, 0, 0, 0, 0, 0, 0, 0, 0,\n",
       "       0, 0, 0, 0, 0, 0, 0, 0, 0, 0, 0, 0, 0, 0, 0, 0, 0, 0, 0, 0, 0, 0,\n",
       "       0, 0, 0, 0, 0, 0, 0, 0, 0, 0, 0, 0, 0, 0, 0, 0, 0, 0, 0, 0, 0, 0,\n",
       "       0, 0, 0, 0, 0, 0, 0, 0, 0, 0, 0, 0, 0, 0, 0, 0, 0, 0, 0, 0, 0, 0,\n",
       "       0, 0, 0, 0, 0, 0, 0, 0, 0, 0, 0, 0, 0, 0, 0, 0, 0, 0, 0, 0, 0, 0,\n",
       "       0, 0, 0, 0, 0, 0, 0, 0, 0, 0, 0, 0, 0, 0, 0, 0, 0, 0, 0, 0, 0, 0,\n",
       "       0, 0, 0, 0, 0, 0, 0, 0, 0, 0, 0, 0, 0, 0, 0, 0, 0, 0, 0, 0, 0, 0,\n",
       "       0, 0, 0, 0, 0, 0, 0, 0, 0, 0, 0, 0, 0, 0, 0, 0, 0, 0, 0, 0, 0, 0,\n",
       "       0, 0, 0, 0, 0, 0, 0, 0, 0, 0, 0, 0, 0, 0, 0, 0, 0, 0, 0, 0, 0, 0,\n",
       "       0, 0, 0, 0, 0, 0, 0, 0, 0, 0, 0, 0, 0, 0, 0, 0, 0, 0, 0, 0, 0, 0,\n",
       "       0, 0, 0, 0, 0, 0, 0, 0, 0, 0, 0, 0, 0, 0, 0, 0, 0, 0, 0, 0, 0, 0,\n",
       "       0, 0, 0, 0, 0, 0, 0, 0, 0, 0, 0, 0, 0, 0, 0, 0, 0, 0, 0, 0, 0, 0,\n",
       "       0, 0, 0, 0, 0, 0, 0, 0, 0, 0, 0, 0, 0, 0, 0, 0, 0, 0, 0, 0, 0, 0,\n",
       "       0, 0, 0, 0, 0, 0, 0])"
      ]
     },
     "execution_count": 55,
     "metadata": {},
     "output_type": "execute_result"
    }
   ],
   "source": [
    "k_means1 = cluster.KMeans(n_clusters=2)\n",
    "k_means1.fit(XDat_6)\n",
    "KMeans(n_clusters=2)\n",
    "k_means1.fit_predict(XDat_6)"
   ]
  },
  {
   "cell_type": "code",
   "execution_count": 62,
   "id": "0e7e9020",
   "metadata": {},
   "outputs": [
    {
     "data": {
      "image/png": "[encoded data removed]",
      "text/plain": [
       "<Figure size 432x288 with 1 Axes>"
      ]
     },
     "metadata": {
      "needs_background": "light"
     },
     "output_type": "display_data"
    }
   ],
   "source": [
    "filtered_label0 = df[label == 0]\n",
    " \n",
    "filtered_label1 = df[label == 1]\n",
    " \n",
    "#Plotting the results\n",
    "plt.scatter(filtered_label0[:,0] , filtered_label0[:,1] , color = 'red')\n",
    "plt.scatter(filtered_label1[:,0] , filtered_label1[:,1] , color = 'black')\n",
    "plt.show()"
   ]
  },
  {
   "cell_type": "code",
   "execution_count": 69,
   "id": "ec954eda",
   "metadata": {},
   "outputs": [
    {
     "data": {
      "image/png": "[encoded data removed]",
      "text/plain": [
       "<Figure size 432x288 with 1 Axes>"
      ]
     },
     "metadata": {
      "needs_background": "light"
     },
     "output_type": "display_data"
    },
    {
     "data": {
      "text/plain": [
       "array([[-0.37017978, -0.06732309],\n",
       "       [31.4123989 ,  5.71284537]])"
      ]
     },
     "execution_count": 69,
     "metadata": {},
     "output_type": "execute_result"
    }
   ],
   "source": [
    "#Getting the Centroids\n",
    "centroids = k_means2.cluster_centers_\n",
    "u_labels = np.unique(label)\n",
    " \n",
    "#plotting the results:\n",
    " \n",
    "plt.scatter(df[label == 1 , 0] , df[label == 1 , 1] , label = 1)\n",
    "plt.scatter(df[label == 0 , 0] , df[label == 0 , 1] , label = 0)\n",
    "\n",
    "plt.scatter(centroids[:,0],centroids[:,1] , s = 30, color = 'k')\n",
    "plt.legend()\n",
    "plt.show()\n",
    "centroids"
   ]
  },
  {
   "cell_type": "code",
   "execution_count": 75,
   "id": "03081d29",
   "metadata": {},
   "outputs": [
    {
     "data": {
      "image/png": "[encoded data removed]",
      "text/plain": [
       "<Figure size 432x288 with 1 Axes>"
      ]
     },
     "metadata": {
      "needs_background": "light"
     },
     "output_type": "display_data"
    },
    {
     "data": {
      "text/plain": [
       "array([[-0.37017978, -0.06732309],\n",
       "       [31.4123989 ,  5.71284537]])"
      ]
     },
     "execution_count": 75,
     "metadata": {},
     "output_type": "execute_result"
    }
   ],
   "source": [
    "#Getting the Centroids\n",
    "centroids1 = k_means4.cluster_centers_\n",
    "u_labels = np.unique(label4)\n",
    " \n",
    "#plotting the results:\n",
    " \n",
    "plt.scatter(XDat[label4 == 1 , 0] , XDat[label4 == 1 , 1] , label = 1)\n",
    "plt.scatter(XDat[label4 == 0 , 0] , XDat[label4 == 0 , 1] , label = 0)\n",
    "\n",
    "plt.scatter(centroids1[:,0],centroids1[:,1] , s = 30, color = 'k')\n",
    "plt.legend()\n",
    "plt.show()\n",
    "centroids1"
   ]
  },
  {
   "cell_type": "code",
   "execution_count": null,
   "id": "c9fd2a2f",
   "metadata": {},
   "outputs": [],
   "source": []
  }
 ],
 "metadata": {
  "kernelspec": {
   "display_name": "Python 3",
   "language": "python",
   "name": "python3"
  },
  "language_info": {
   "codemirror_mode": {
    "name": "ipython",
    "version": 3
   },
   "file_extension": ".py",
   "mimetype": "text/x-python",
   "name": "python",
   "nbconvert_exporter": "python",
   "pygments_lexer": "ipython3",
   "version": "3.8.8"
  }
 },
 "nbformat": 4,
 "nbformat_minor": 5
}
